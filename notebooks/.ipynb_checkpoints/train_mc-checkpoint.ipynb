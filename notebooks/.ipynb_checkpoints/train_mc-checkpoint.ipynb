{
 "cells": [
  {
   "cell_type": "markdown",
   "metadata": {},
   "source": [
    "# Hybrid Multipath Reconstruction - Train\n",
    "\n",
    "- Multi-channel data\n",
    "- This notebooks is heavely inspired by flat_unrolled_cascade_train_mc.ipynb notebook available here: https://github.com/rmsouza01/CD-Deep-Cascade-MR-Reconstruction/blob/master/JNotebooks/flat_unrolled_cascade_train_mc.ipynb"
   ]
  },
  {
   "cell_type": "code",
   "execution_count": 1,
   "metadata": {},
   "outputs": [
    {
     "name": "stderr",
     "output_type": "stream",
     "text": [
      "/home/alexandre/miniconda3/envs/venturus_keras/lib/python3.7/site-packages/tensorflow/python/framework/dtypes.py:516: FutureWarning: Passing (type, 1) or '1type' as a synonym of type is deprecated; in a future version of numpy, it will be understood as (type, (1,)) / '(1,)type'.\n",
      "  _np_qint8 = np.dtype([(\"qint8\", np.int8, 1)])\n",
      "/home/alexandre/miniconda3/envs/venturus_keras/lib/python3.7/site-packages/tensorflow/python/framework/dtypes.py:517: FutureWarning: Passing (type, 1) or '1type' as a synonym of type is deprecated; in a future version of numpy, it will be understood as (type, (1,)) / '(1,)type'.\n",
      "  _np_quint8 = np.dtype([(\"quint8\", np.uint8, 1)])\n",
      "/home/alexandre/miniconda3/envs/venturus_keras/lib/python3.7/site-packages/tensorflow/python/framework/dtypes.py:518: FutureWarning: Passing (type, 1) or '1type' as a synonym of type is deprecated; in a future version of numpy, it will be understood as (type, (1,)) / '(1,)type'.\n",
      "  _np_qint16 = np.dtype([(\"qint16\", np.int16, 1)])\n",
      "/home/alexandre/miniconda3/envs/venturus_keras/lib/python3.7/site-packages/tensorflow/python/framework/dtypes.py:519: FutureWarning: Passing (type, 1) or '1type' as a synonym of type is deprecated; in a future version of numpy, it will be understood as (type, (1,)) / '(1,)type'.\n",
      "  _np_quint16 = np.dtype([(\"quint16\", np.uint16, 1)])\n",
      "/home/alexandre/miniconda3/envs/venturus_keras/lib/python3.7/site-packages/tensorflow/python/framework/dtypes.py:520: FutureWarning: Passing (type, 1) or '1type' as a synonym of type is deprecated; in a future version of numpy, it will be understood as (type, (1,)) / '(1,)type'.\n",
      "  _np_qint32 = np.dtype([(\"qint32\", np.int32, 1)])\n",
      "/home/alexandre/miniconda3/envs/venturus_keras/lib/python3.7/site-packages/tensorflow/python/framework/dtypes.py:525: FutureWarning: Passing (type, 1) or '1type' as a synonym of type is deprecated; in a future version of numpy, it will be understood as (type, (1,)) / '(1,)type'.\n",
      "  np_resource = np.dtype([(\"resource\", np.ubyte, 1)])\n",
      "/home/alexandre/miniconda3/envs/venturus_keras/lib/python3.7/site-packages/tensorboard/compat/tensorflow_stub/dtypes.py:541: FutureWarning: Passing (type, 1) or '1type' as a synonym of type is deprecated; in a future version of numpy, it will be understood as (type, (1,)) / '(1,)type'.\n",
      "  _np_qint8 = np.dtype([(\"qint8\", np.int8, 1)])\n",
      "/home/alexandre/miniconda3/envs/venturus_keras/lib/python3.7/site-packages/tensorboard/compat/tensorflow_stub/dtypes.py:542: FutureWarning: Passing (type, 1) or '1type' as a synonym of type is deprecated; in a future version of numpy, it will be understood as (type, (1,)) / '(1,)type'.\n",
      "  _np_quint8 = np.dtype([(\"quint8\", np.uint8, 1)])\n",
      "/home/alexandre/miniconda3/envs/venturus_keras/lib/python3.7/site-packages/tensorboard/compat/tensorflow_stub/dtypes.py:543: FutureWarning: Passing (type, 1) or '1type' as a synonym of type is deprecated; in a future version of numpy, it will be understood as (type, (1,)) / '(1,)type'.\n",
      "  _np_qint16 = np.dtype([(\"qint16\", np.int16, 1)])\n",
      "/home/alexandre/miniconda3/envs/venturus_keras/lib/python3.7/site-packages/tensorboard/compat/tensorflow_stub/dtypes.py:544: FutureWarning: Passing (type, 1) or '1type' as a synonym of type is deprecated; in a future version of numpy, it will be understood as (type, (1,)) / '(1,)type'.\n",
      "  _np_quint16 = np.dtype([(\"quint16\", np.uint16, 1)])\n",
      "/home/alexandre/miniconda3/envs/venturus_keras/lib/python3.7/site-packages/tensorboard/compat/tensorflow_stub/dtypes.py:545: FutureWarning: Passing (type, 1) or '1type' as a synonym of type is deprecated; in a future version of numpy, it will be understood as (type, (1,)) / '(1,)type'.\n",
      "  _np_qint32 = np.dtype([(\"qint32\", np.int32, 1)])\n",
      "/home/alexandre/miniconda3/envs/venturus_keras/lib/python3.7/site-packages/tensorboard/compat/tensorflow_stub/dtypes.py:550: FutureWarning: Passing (type, 1) or '1type' as a synonym of type is deprecated; in a future version of numpy, it will be understood as (type, (1,)) / '(1,)type'.\n",
      "  np_resource = np.dtype([(\"resource\", np.ubyte, 1)])\n",
      "Using TensorFlow backend.\n"
     ]
    }
   ],
   "source": [
    "%matplotlib inline\n",
    "import matplotlib.pylab as plt\n",
    "import numpy as np\n",
    "import os\n",
    "import glob\n",
    "import sys\n",
    "from scipy.io import loadmat\n",
    "# Importing our model\n",
    "MY_UTILS_PATH = \"../src/\"\n",
    "if not MY_UTILS_PATH in sys.path:\n",
    "    sys.path.append(MY_UTILS_PATH)\n",
    "import hybrid_multipath_model as fsnet\n",
    "\n",
    "# Importing callbacks and data augmentation utils\n",
    "from keras.callbacks import ModelCheckpoint, EarlyStopping\n",
    "from data_generator import DataGenerator\n",
    "from keras.optimizers import  Adam"
   ]
  },
  {
   "cell_type": "code",
   "execution_count": 2,
   "metadata": {},
   "outputs": [
    {
     "name": "stdout",
     "output_type": "stream",
     "text": [
      "(100, 218, 170)\n",
      "Undersampling: 0.8013043712898004\n",
      "Mask type: bool\n",
      "(100, 218, 170)\n"
     ]
    },
    {
     "data": {
      "image/png": "[encoded data removed]",
      "text/plain": [
       "<Figure size 432x288 with 1 Axes>"
      ]
     },
     "metadata": {},
     "output_type": "display_data"
    }
   ],
   "source": [
    "## PARAMETERS\n",
    "H,W = 218,170 # Training image dimensions\n",
    "channels = 24 # complex data 0-> real; 1-> imaginary\n",
    "norm = np.sqrt(H*W)\n",
    "batch_size = 5\n",
    "# undersampling patterns - centered k-space - 100 pre computed patterns\n",
    "var_sampling_mask = ~np.load(\"../Data/Sampling-patterns/218x170/poisson_center_radius=18_20perc.npy\")\n",
    "print(var_sampling_mask.shape)\n",
    "\n",
    "print(\"Undersampling:\", 1.0*var_sampling_mask.sum()/var_sampling_mask.size)\n",
    "print(\"Mask type:\",  var_sampling_mask.dtype)\n",
    "print(var_sampling_mask.shape)\n",
    "plt.figure()\n",
    "plt.imshow(var_sampling_mask[0],cmap = \"gray\")\n",
    "plt.axis(\"off\")\n",
    "plt.show()"
   ]
  },
  {
   "cell_type": "code",
   "execution_count": 3,
   "metadata": {},
   "outputs": [
    {
     "name": "stdout",
     "output_type": "stream",
     "text": [
      "/home/ubuntu/volume1/Slices/Train-mc/e14498s5_P60928.7_image_slice138.jpg.npy\n",
      "10240\n",
      "/home/ubuntu/volume1/Slices/Val-mc/e14258s3_P76800.7_image_slice103.jpg.npy\n",
      "2560\n",
      "(100, 218, 170, 24)\n"
     ]
    }
   ],
   "source": [
    "# Train Set \n",
    "train_path = \"<CHANGE TO YOUR TRAINING PATH>\"\n",
    "kspace_files_train = np.asarray(glob.glob(train_path))\n",
    "indexes = np.arange(kspace_files_train.shape[0],dtype = int)\n",
    "np.random.shuffle(indexes)\n",
    "kspace_files_train = kspace_files_train[indexes]\n",
    "\n",
    "# Validation set\n",
    "val_path = \"<CHANGE TO YOUR VALIDATION PATH>\"\n",
    "kspace_files_val = np.asarray(glob.glob(val_path))\n",
    "indexes = np.arange(kspace_files_val.shape[0],dtype = int)\n",
    "np.random.shuffle(indexes)\n",
    "kspace_files_val = kspace_files_val[indexes]\n",
    "\n",
    "print(kspace_files_train[-1])\n",
    "print(len(kspace_files_train))\n",
    "\n",
    "print(kspace_files_val[-1])\n",
    "print(len(kspace_files_val))\n",
    "\n",
    "var_sampling_mask = var_sampling_mask[:,:,:,np.newaxis]\n",
    "var_sampling_mask = np.tile(var_sampling_mask,(1,1,1,24))\n",
    "print(var_sampling_mask.shape)\n",
    "train_generator = DataGenerator(kspace_files_train,var_sampling_mask,norm,batch_size=8)\n",
    "val_generator = DataGenerator(kspace_files_val,var_sampling_mask,norm,batch_size=8)"
   ]
  },
  {
   "cell_type": "code",
   "execution_count": null,
   "metadata": {},
   "outputs": [],
   "source": []
  },
  {
   "cell_type": "markdown",
   "metadata": {},
   "source": [
    "## Model Parameters"
   ]
  },
  {
   "cell_type": "code",
   "execution_count": 5,
   "metadata": {},
   "outputs": [],
   "source": [
    "epochs = 50\n",
    "#choose batch size as much as possible. \n",
    "batch_size= 8\n",
    "earlyStopping = EarlyStopping(monitor='val_loss',\n",
    "                                           patience=5, \n",
    "                                           verbose=0, mode='min')"
   ]
  },
  {
   "cell_type": "code",
   "execution_count": null,
   "metadata": {},
   "outputs": [],
   "source": []
  },
  {
   "cell_type": "code",
   "execution_count": null,
   "metadata": {},
   "outputs": [
    {
     "name": "stdout",
     "output_type": "stream",
     "text": [
      "../Models/flat_unrolled_cascade_ikikii_mc.hdf5\n",
      "WARNING:tensorflow:From /home/ubuntu/anaconda3/envs/tensorflow_p36/lib/python3.6/site-packages/tensorflow/python/framework/op_def_library.py:263: colocate_with (from tensorflow.python.framework.ops) is deprecated and will be removed in a future version.\n",
      "Instructions for updating:\n",
      "Colocations handled automatically by placer.\n"
     ]
    },
    {
     "name": "stderr",
     "output_type": "stream",
     "text": [
      "/home/ubuntu/anaconda3/envs/tensorflow_p36/lib/python3.6/site-packages/keras/activations.py:211: UserWarning: Do not pass a layer instance (such as LeakyReLU) as the activation argument of another layer. Instead, advanced activation layers should be used just like any other layer in a model.\n",
      "  identifier=identifier.__class__.__name__))\n"
     ]
    },
    {
     "name": "stdout",
     "output_type": "stream",
     "text": [
      "WARNING:tensorflow:From /home/ubuntu/anaconda3/envs/tensorflow_p36/lib/python3.6/site-packages/tensorflow/python/ops/math_ops.py:3066: to_int32 (from tensorflow.python.ops.math_ops) is deprecated and will be removed in a future version.\n",
      "Instructions for updating:\n",
      "Use tf.cast instead.\n",
      "Epoch 1/30\n",
      "  98/1280 [=>............................] - ETA: 33:31 - loss: 0.3769"
     ]
    }
   ],
   "source": [
    "model_name = \"../models/hmrc.hdf5\"\n",
    "print(model_name)\n",
    "    \n",
    "# Checkpoint callback to save model  along the epochs\n",
    "checkpoint = ModelCheckpoint(model_name, mode = 'min', \\\n",
    "                             monitor='val_loss',verbose=0,\\\n",
    "                             save_best_only=True, save_weights_only = True)\n",
    "\n",
    "model = fsnet.deep_hybrid_multipath(H=218, W=170)\n",
    "opt = Adam(lr = 1e-3)\n",
    "model.compile(loss = fsnet.nrmse_min_max,optimizer=opt)\n",
    "\n",
    "hist = model.fit_generator(train_generator,\n",
    "                               epochs=epochs,\n",
    "                               steps_per_epoch=kspace_files_train.size//batch_size,\n",
    "                               verbose=1,\n",
    "                               validation_data= val_generator,\n",
    "                               callbacks=[checkpoint,earlyStopping])"
   ]
  }
 ],
 "metadata": {
  "kernelspec": {
   "display_name": "Python 3",
   "language": "python",
   "name": "python3"
  },
  "language_info": {
   "codemirror_mode": {
    "name": "ipython",
    "version": 3
   },
   "file_extension": ".py",
   "mimetype": "text/x-python",
   "name": "python",
   "nbconvert_exporter": "python",
   "pygments_lexer": "ipython3",
   "version": "3.7.9"
  }
 },
 "nbformat": 4,
 "nbformat_minor": 2
}
